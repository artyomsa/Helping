{
 "cells": [
  {
   "cell_type": "code",
   "execution_count": 8,
   "metadata": {},
   "outputs": [],
   "source": [
    "import numpy as np"
   ]
  },
  {
   "cell_type": "code",
   "execution_count": 2,
   "metadata": {
    "collapsed": true
   },
   "outputs": [],
   "source": [
    "a = np.array([[1,2,3],[1,1,1],[0,0,1]])"
   ]
  },
  {
   "cell_type": "code",
   "execution_count": 11,
   "metadata": {},
   "outputs": [
    {
     "name": "stdout",
     "output_type": "stream",
     "text": [
      "Матрица А:\n",
      " [[1 2 3]\n",
      " [1 1 1]\n",
      " [0 0 1]]\n",
      "Матрица A транспонированная:\n",
      " [[1 1 0]\n",
      " [2 1 0]\n",
      " [3 1 1]]\n",
      "Матрица обратная A:\n",
      " [[-1.  2.  1.]\n",
      " [ 1. -1. -2.]\n",
      " [ 0.  0.  1.]]\n",
      "Матрица A^2:\n",
      " [[3 4 8]\n",
      " [2 3 5]\n",
      " [0 0 1]]\n"
     ]
    }
   ],
   "source": [
    "print(\"Матрица А:\\n\",a)\n",
    "print(\"Матрица A транспонированная:\\n\",a.T)\n",
    "print(\"Матрица обратная A:\\n\", np.linalg.inv(a))\n",
    "print(\"Матрица A^2:\\n\", np.dot(a,a))"
   ]
  }
 ],
 "metadata": {
  "kernelspec": {
   "display_name": "Python 3",
   "language": "python",
   "name": "python3"
  },
  "language_info": {
   "codemirror_mode": {
    "name": "ipython",
    "version": 3
   },
   "file_extension": ".py",
   "mimetype": "text/x-python",
   "name": "python",
   "nbconvert_exporter": "python",
   "pygments_lexer": "ipython3",
   "version": "3.6.3"
  }
 },
 "nbformat": 4,
 "nbformat_minor": 2
}
