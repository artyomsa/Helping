{
 "cells": [
  {
   "cell_type": "code",
   "execution_count": 1,
   "metadata": {
    "collapsed": true
   },
   "outputs": [],
   "source": [
    "import numpy as np\n",
    "from math import sin, cos, sqrt, atan2, radians\n",
    "import pandas as pd"
   ]
  },
  {
   "cell_type": "markdown",
   "metadata": {},
   "source": [
    "1. Командная строка: в поиске  cmd\n",
    "2. Посмотреть содержимое: dir\n",
    "3. Комадна для смены дерриктории: cd /название_папки\n",
    "4. Для того чтобы подняться вверх по каталогу: cd ..\n",
    "5. Для включения питона набрать: jupyter notebook"
   ]
  },
  {
   "cell_type": "code",
   "execution_count": 2,
   "metadata": {
    "collapsed": true
   },
   "outputs": [],
   "source": [
    "a = np.array([[1,2,3],\n",
    "              [1,1,1],\n",
    "              [0,0,1]])"
   ]
  },
  {
   "cell_type": "code",
   "execution_count": 3,
   "metadata": {},
   "outputs": [
    {
     "name": "stdout",
     "output_type": "stream",
     "text": [
      "Матрица А:\n",
      " [[1 2 3]\n",
      " [1 1 1]\n",
      " [0 0 1]]\n",
      "Матрица A транспонированная:\n",
      " [[1 1 0]\n",
      " [2 1 0]\n",
      " [3 1 1]]\n",
      "Матрица обратная A:\n",
      " [[-1.  2.  1.]\n",
      " [ 1. -1. -2.]\n",
      " [ 0.  0.  1.]]\n",
      "Матрица A^2:\n",
      " [[3 4 8]\n",
      " [2 3 5]\n",
      " [0 0 1]]\n"
     ]
    }
   ],
   "source": [
    "print(\"Матрица А:\\n\",a)\n",
    "print(\"Матрица A транспонированная:\\n\",a.T)\n",
    "print(\"Матрица обратная A:\\n\", np.linalg.inv(a))\n",
    "print(\"Матрица A^2:\\n\", np.dot(a,a))"
   ]
  },
  {
   "cell_type": "code",
   "execution_count": 4,
   "metadata": {
    "collapsed": true
   },
   "outputs": [],
   "source": [
    "def distance_between_points(lat_a, lon_a, lat_b, lon_b):\n",
    "\n",
    "    R = 6373.0\n",
    "\n",
    "    lat1 = radians(lat_a)\n",
    "    lon1 = radians(lon_a)\n",
    "    lat2 = radians(lat_b)\n",
    "    lon2 = radians(lon_b)\n",
    "\n",
    "    dlon = lon2 - lon1\n",
    "    dlat = lat2 - lat1\n",
    "\n",
    "    a = sin(dlat / 2)**2 + cos(lat1) * cos(lat2) * sin(dlon / 2)**2\n",
    "    c = 2 * atan2(sqrt(a), sqrt(1 - a))\n",
    "\n",
    "    distance = R * c\n",
    "    return distance"
   ]
  },
  {
   "cell_type": "code",
   "execution_count": 5,
   "metadata": {
    "collapsed": true
   },
   "outputs": [],
   "source": [
    "df = pd.read_excel('Координаты.xlsx')"
   ]
  },
  {
   "cell_type": "code",
   "execution_count": 6,
   "metadata": {},
   "outputs": [
    {
     "data": {
      "text/html": [
       "<div>\n",
       "<style>\n",
       "    .dataframe thead tr:only-child th {\n",
       "        text-align: right;\n",
       "    }\n",
       "\n",
       "    .dataframe thead th {\n",
       "        text-align: left;\n",
       "    }\n",
       "\n",
       "    .dataframe tbody tr th {\n",
       "        vertical-align: top;\n",
       "    }\n",
       "</style>\n",
       "<table border=\"1\" class=\"dataframe\">\n",
       "  <thead>\n",
       "    <tr style=\"text-align: right;\">\n",
       "      <th></th>\n",
       "      <th>RegionNameORIGIN</th>\n",
       "      <th>Origin Latitude</th>\n",
       "      <th>Origin Longitude</th>\n",
       "    </tr>\n",
       "  </thead>\n",
       "  <tbody>\n",
       "    <tr>\n",
       "      <th>0</th>\n",
       "      <td>Республика Башкортостан</td>\n",
       "      <td>54.734856</td>\n",
       "      <td>55.957856</td>\n",
       "    </tr>\n",
       "    <tr>\n",
       "      <th>1</th>\n",
       "      <td>Республика Бурятия</td>\n",
       "      <td>51.833507</td>\n",
       "      <td>107.584125</td>\n",
       "    </tr>\n",
       "    <tr>\n",
       "      <th>2</th>\n",
       "      <td>Республика Дагестан</td>\n",
       "      <td>42.983060</td>\n",
       "      <td>47.504682</td>\n",
       "    </tr>\n",
       "    <tr>\n",
       "      <th>3</th>\n",
       "      <td>Кабардино-Балкарская республика</td>\n",
       "      <td>43.484605</td>\n",
       "      <td>43.607090</td>\n",
       "    </tr>\n",
       "    <tr>\n",
       "      <th>4</th>\n",
       "      <td>Республика Калмыкия</td>\n",
       "      <td>46.308309</td>\n",
       "      <td>44.270181</td>\n",
       "    </tr>\n",
       "  </tbody>\n",
       "</table>\n",
       "</div>"
      ],
      "text/plain": [
       "                  RegionNameORIGIN  Origin Latitude  Origin Longitude\n",
       "0          Республика Башкортостан        54.734856         55.957856\n",
       "1               Республика Бурятия        51.833507        107.584125\n",
       "2              Республика Дагестан        42.983060         47.504682\n",
       "3  Кабардино-Балкарская республика        43.484605         43.607090\n",
       "4              Республика Калмыкия        46.308309         44.270181"
      ]
     },
     "execution_count": 6,
     "metadata": {},
     "output_type": "execute_result"
    }
   ],
   "source": [
    "df.head()"
   ]
  },
  {
   "cell_type": "code",
   "execution_count": 7,
   "metadata": {
    "collapsed": true
   },
   "outputs": [],
   "source": [
    "#\n",
    "lat_lon = df[['Origin Latitude','Origin Longitude']].values"
   ]
  },
  {
   "cell_type": "code",
   "execution_count": 8,
   "metadata": {
    "collapsed": true
   },
   "outputs": [],
   "source": [
    "matr_dist = np.zeros((79,79,79))"
   ]
  },
  {
   "cell_type": "markdown",
   "metadata": {},
   "source": [
    "# Выбор h\n",
    "1. $AIC = 2k+n[ln(2\\pi RSS/n) +1]$\n",
    "2. $RSS = \\sum_{i=1}^{N}(y_i-h)^2$"
   ]
  },
  {
   "cell_type": "code",
   "execution_count": 9,
   "metadata": {
    "collapsed": true
   },
   "outputs": [],
   "source": [
    "for i in range(79):\n",
    "    for j in range(79):\n",
    "        matr_dist[i,j,j] = distance_between_points(lat_lon[i,0],lat_lon[i,1], \n",
    "                                                   lat_lon[j,0],lat_lon[j,1])"
   ]
  },
  {
   "cell_type": "code",
   "execution_count": 10,
   "metadata": {
    "collapsed": true
   },
   "outputs": [],
   "source": [
    "h = 0\n",
    "for i in range(79):\n",
    "    for j in range(79):\n",
    "        h += (distance_between_points(lat_lon[i,0],lat_lon[i,1], \n",
    "                                 lat_lon[j,0],lat_lon[j,1])-2419.54)**2/79/79"
   ]
  },
  {
   "cell_type": "code",
   "execution_count": 11,
   "metadata": {
    "collapsed": true
   },
   "outputs": [],
   "source": [
    "h = h**(0.5)"
   ]
  },
  {
   "cell_type": "code",
   "execution_count": 12,
   "metadata": {},
   "outputs": [
    {
     "data": {
      "text/plain": [
       "1968.5992536211638"
      ]
     },
     "execution_count": 12,
     "metadata": {},
     "output_type": "execute_result"
    }
   ],
   "source": [
    "h"
   ]
  },
  {
   "cell_type": "code",
   "execution_count": 13,
   "metadata": {
    "collapsed": true
   },
   "outputs": [],
   "source": [
    "W = np.zeros((79,79,79))\n",
    "for i in range(79):\n",
    "    for j in range(79):\n",
    "        W[i,j,j] = np.exp((-0.5)*(distance_between_points(lat_lon[i,0],lat_lon[i,1], \n",
    "                                                   lat_lon[j,0],lat_lon[j,1])/h)**2)"
   ]
  },
  {
   "cell_type": "code",
   "execution_count": 14,
   "metadata": {
    "collapsed": true
   },
   "outputs": [],
   "source": [
    "x_df = pd.read_excel('данные 2002 и 2016 год.xlsx')"
   ]
  },
  {
   "cell_type": "code",
   "execution_count": 15,
   "metadata": {
    "collapsed": true
   },
   "outputs": [],
   "source": [
    "x_df_2002 = x_df[['TFR','Gender gap', 'Secularisation', 'GDP per inhabitant']]\n",
    "x_df_2016 = x_df[['Unnamed: 1','Unnamed: 3', 'Unnamed: 5', 'Unnamed: 7']]"
   ]
  },
  {
   "cell_type": "code",
   "execution_count": 16,
   "metadata": {},
   "outputs": [
    {
     "name": "stderr",
     "output_type": "stream",
     "text": [
      "/home/artyom/anaconda3/lib/python3.6/site-packages/ipykernel_launcher.py:1: SettingWithCopyWarning: \n",
      "A value is trying to be set on a copy of a slice from a DataFrame.\n",
      "Try using .loc[row_indexer,col_indexer] = value instead\n",
      "\n",
      "See the caveats in the documentation: http://pandas.pydata.org/pandas-docs/stable/indexing.html#indexing-view-versus-copy\n",
      "  \"\"\"Entry point for launching an IPython kernel.\n"
     ]
    }
   ],
   "source": [
    "x_df_2002['GDP sqare'] = x_df_2002['GDP per inhabitant']*x_df_2002['GDP per inhabitant']"
   ]
  },
  {
   "cell_type": "code",
   "execution_count": 17,
   "metadata": {
    "collapsed": true
   },
   "outputs": [],
   "source": [
    "x_df_2002 = x_df_2002[1:]"
   ]
  },
  {
   "cell_type": "code",
   "execution_count": 18,
   "metadata": {},
   "outputs": [
    {
     "name": "stderr",
     "output_type": "stream",
     "text": [
      "/home/artyom/anaconda3/lib/python3.6/site-packages/ipykernel_launcher.py:1: SettingWithCopyWarning: \n",
      "A value is trying to be set on a copy of a slice from a DataFrame.\n",
      "Try using .loc[row_indexer,col_indexer] = value instead\n",
      "\n",
      "See the caveats in the documentation: http://pandas.pydata.org/pandas-docs/stable/indexing.html#indexing-view-versus-copy\n",
      "  \"\"\"Entry point for launching an IPython kernel.\n"
     ]
    }
   ],
   "source": [
    "x_df_2016['GDP sqare'] = x_df_2016['Unnamed: 7']*x_df_2016['Unnamed: 7']"
   ]
  },
  {
   "cell_type": "code",
   "execution_count": 19,
   "metadata": {
    "collapsed": true
   },
   "outputs": [],
   "source": [
    "x_df_2016 = x_df_2016[1:]"
   ]
  },
  {
   "cell_type": "code",
   "execution_count": 20,
   "metadata": {
    "collapsed": true
   },
   "outputs": [],
   "source": [
    "x_df_2002 = x_df_2002 - x_df_2002.mean()\n",
    "x_df_2016 = x_df_2016 - x_df_2016.mean()"
   ]
  },
  {
   "cell_type": "code",
   "execution_count": 21,
   "metadata": {
    "collapsed": true
   },
   "outputs": [],
   "source": [
    "x_df_2002 = x_df_2002/x_df_2002.std()\n",
    "x_df_2016 = x_df_2016/x_df_2016.std()"
   ]
  },
  {
   "cell_type": "code",
   "execution_count": 22,
   "metadata": {
    "collapsed": true
   },
   "outputs": [],
   "source": [
    "x_df_2002['const'] = 1\n",
    "x_df_2016['const'] = 1"
   ]
  },
  {
   "cell_type": "code",
   "execution_count": 47,
   "metadata": {
    "collapsed": true
   },
   "outputs": [],
   "source": [
    "X_2002 = x_df_2002[['Gender gap', 'Secularisation', 'GDP per inhabitant','GDP sqare']].values\n",
    "X_2016 = x_df_2016[['Unnamed: 3', 'Unnamed: 5', 'Unnamed: 7','GDP sqare']].values"
   ]
  },
  {
   "cell_type": "code",
   "execution_count": 48,
   "metadata": {
    "collapsed": true
   },
   "outputs": [],
   "source": [
    "Y_2002 = x_df_2002.TFR.values\n",
    "Y_2016 = x_df_2016['Unnamed: 1'].values"
   ]
  },
  {
   "cell_type": "code",
   "execution_count": 58,
   "metadata": {},
   "outputs": [
    {
     "name": "stdout",
     "output_type": "stream",
     "text": [
      "Populating the interactive namespace from numpy and matplotlib\n"
     ]
    }
   ],
   "source": [
    "import numpy as np\n",
    "import pandas as pd\n",
    "import geopandas as gp\n",
    "import pysal as ps\n",
    "import matplotlib\n",
    "import matplotlib.pyplot as plt\n",
    "%pylab inline\n",
    "from pysal.contrib.gwr.sel_bw import Sel_BW\n",
    "from pysal.contrib.gwr.gwr import GWR\n",
    "from pysal.contrib.glm.family import Gaussian\n"
   ]
  },
  {
   "cell_type": "code",
   "execution_count": 50,
   "metadata": {
    "collapsed": true
   },
   "outputs": [],
   "source": [
    "coords = []\n",
    "for i in lat_lon:\n",
    "    coords.append((i[0],i[1]))"
   ]
  },
  {
   "cell_type": "code",
   "execution_count": 96,
   "metadata": {},
   "outputs": [
    {
     "name": "stdout",
     "output_type": "stream",
     "text": [
      "53.0\n"
     ]
    }
   ],
   "source": [
    "coords\n",
    "bw_2002 = Sel_BW(lat_lon, Y_2002.reshape(len(Y_2002),1), X_2002, kernel='bisquare', fixed=False)\n",
    "bws_2002 = bw_2002.search(search='golden_section', criterion='AICc')\n",
    "#XB_2002 = bw_2002.XB\n",
    "#err_2002 = bw_2002.err\n",
    "print(bws_2002)\n",
    "results = GWR(lat_lon, Y_2002.reshape(len(Y_2002),1), X_2002,bws_2002, constant=True).fit()"
   ]
  },
  {
   "cell_type": "code",
   "execution_count": 97,
   "metadata": {
    "collapsed": true
   },
   "outputs": [],
   "source": [
    "out_df_2002 = pd.DataFrame()\n",
    "for i in results.params:\n",
    "    _answer = dict(zip(['Gender gap', 'Secularisation', 'GDP per inhabitant','GDP sqare'],i))\n",
    "    out_df_2002 =  out_df_2002.append(_answer,ignore_index=True)\n",
    "    \n",
    "out_df_2002 = out_df_2002.set_index(x_df_2002.index)\n",
    "out_df_2002.to_excel('coef_2002.xlsx')\n",
    "\n",
    "tval_df_2002 = pd.DataFrame()\n",
    "for i in results.tvalues:\n",
    "    _answer = dict(zip(['Gender gap', 'Secularisation', 'GDP per inhabitant','GDP sqare'],i))\n",
    "    tval_df_2002 =  tval_df_2002.append(_answer,ignore_index=True)\n",
    "    \n",
    "tval_df_2002 = tval_df_2002.set_index(x_df_2002.index)\n",
    "tval_df_2002.to_excel('tval_2002.xlsx')"
   ]
  },
  {
   "cell_type": "code",
   "execution_count": 98,
   "metadata": {},
   "outputs": [
    {
     "name": "stdout",
     "output_type": "stream",
     "text": [
      "59.0\n"
     ]
    }
   ],
   "source": [
    "coords\n",
    "bw_2016 = Sel_BW(lat_lon, Y_2016.reshape(len(Y_2016),1), X_2016, kernel='bisquare', fixed=False)\n",
    "bws_2016 = bw_2016.search(search='golden_section', criterion='AICc')\n",
    "#XB_2002 = bw_2002.XB\n",
    "#err_2002 = bw_2002.err\n",
    "print(bws_2016)\n",
    "results = GWR(lat_lon, Y_2016.reshape(len(Y_2016),1), X_2016,bws_2016, constant=True).fit()"
   ]
  },
  {
   "cell_type": "code",
   "execution_count": 99,
   "metadata": {
    "collapsed": true
   },
   "outputs": [],
   "source": [
    "out_df_2016 = pd.DataFrame()\n",
    "for i in results.params:\n",
    "    _answer = dict(zip(['Gender gap', 'Secularisation', 'GDP per inhabitant','GDP sqare'],i))\n",
    "    out_df_2016 =  out_df_2016.append(_answer,ignore_index=True)\n",
    "    \n",
    "out_df_2016 = out_df_2016.set_index(x_df_2016.index)\n",
    "out_df_2016.to_excel('coef_2016.xlsx')\n",
    "\n",
    "tval_df_2016 = pd.DataFrame()\n",
    "for i in results.tvalues:\n",
    "    _answer = dict(zip(['Gender gap', 'Secularisation', 'GDP per inhabitant','GDP sqare'],i))\n",
    "    tval_df_2016 =  tval_df_2016.append(_answer,ignore_index=True)\n",
    "    \n",
    "tval_df_2016 = tval_df_2016.set_index(x_df_2016.index)\n",
    "tval_df_2016.to_excel('tval_2016.xlsx')"
   ]
  }
 ],
 "metadata": {
  "kernelspec": {
   "display_name": "Python 3",
   "language": "python",
   "name": "python3"
  },
  "language_info": {
   "codemirror_mode": {
    "name": "ipython",
    "version": 3
   },
   "file_extension": ".py",
   "mimetype": "text/x-python",
   "name": "python",
   "nbconvert_exporter": "python",
   "pygments_lexer": "ipython3",
   "version": "3.6.3"
  }
 },
 "nbformat": 4,
 "nbformat_minor": 2
}
