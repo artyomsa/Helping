{
 "cells": [
  {
   "cell_type": "code",
   "execution_count": 27,
   "metadata": {
    "collapsed": true
   },
   "outputs": [],
   "source": [
    "import pandas as pd"
   ]
  },
  {
   "cell_type": "code",
   "execution_count": 32,
   "metadata": {},
   "outputs": [],
   "source": [
    "df = pd.read_excel('data_by_year.xlsx')"
   ]
  },
  {
   "cell_type": "code",
   "execution_count": 35,
   "metadata": {},
   "outputs": [],
   "source": [
    "df = df.rename(index=str, \n",
    "               columns={\"Индекс\": \"region\", \"Год\": \"year\",\"TFR\":\"gy\",\n",
    "                        \"Gender GAP\":\"gg\",\"GDP\":\"gdp\",\"GDP^2\":\"gdpsq\",\n",
    "                       \"Secularisation\":\"sc\"})"
   ]
  },
  {
   "cell_type": "code",
   "execution_count": 38,
   "metadata": {},
   "outputs": [],
   "source": [
    "df = df[['region', 'year', 'gy', 'gg', 'gdp', 'gdpsq', 'sc']]"
   ]
  },
  {
   "cell_type": "code",
   "execution_count": 41,
   "metadata": {
    "collapsed": true
   },
   "outputs": [],
   "source": [
    "df_val = df[[ 'gy', 'gg', 'gdp', 'gdpsq', 'sc']]"
   ]
  },
  {
   "cell_type": "code",
   "execution_count": 42,
   "metadata": {
    "collapsed": true
   },
   "outputs": [],
   "source": [
    "df_std = df_val.std()\n",
    "df_mean = df_val.mean()"
   ]
  },
  {
   "cell_type": "code",
   "execution_count": 43,
   "metadata": {
    "collapsed": true
   },
   "outputs": [],
   "source": [
    "df[[ 'gy', 'gg', 'gdp', 'gdpsq', 'sc']] = df[[ 'gy', 'gg', 'gdp', 'gdpsq', 'sc']] - df_mean\n",
    "df[[ 'gy', 'gg', 'gdp', 'gdpsq', 'sc']] = df[[ 'gy', 'gg', 'gdp', 'gdpsq', 'sc']]/df_std"
   ]
  },
  {
   "cell_type": "code",
   "execution_count": 44,
   "metadata": {},
   "outputs": [
    {
     "data": {
      "text/html": [
       "<div>\n",
       "<style>\n",
       "    .dataframe thead tr:only-child th {\n",
       "        text-align: right;\n",
       "    }\n",
       "\n",
       "    .dataframe thead th {\n",
       "        text-align: left;\n",
       "    }\n",
       "\n",
       "    .dataframe tbody tr th {\n",
       "        vertical-align: top;\n",
       "    }\n",
       "</style>\n",
       "<table border=\"1\" class=\"dataframe\">\n",
       "  <thead>\n",
       "    <tr style=\"text-align: right;\">\n",
       "      <th></th>\n",
       "      <th>region</th>\n",
       "      <th>year</th>\n",
       "      <th>gy</th>\n",
       "      <th>gg</th>\n",
       "      <th>gdp</th>\n",
       "      <th>gdpsq</th>\n",
       "      <th>sc</th>\n",
       "    </tr>\n",
       "  </thead>\n",
       "  <tbody>\n",
       "    <tr>\n",
       "      <th>0</th>\n",
       "      <td>1</td>\n",
       "      <td>2002</td>\n",
       "      <td>-0.180788</td>\n",
       "      <td>0.776764</td>\n",
       "      <td>-0.785017</td>\n",
       "      <td>-0.336102</td>\n",
       "      <td>-0.433914</td>\n",
       "    </tr>\n",
       "    <tr>\n",
       "      <th>1</th>\n",
       "      <td>2</td>\n",
       "      <td>2002</td>\n",
       "      <td>0.068355</td>\n",
       "      <td>-0.277662</td>\n",
       "      <td>-0.819004</td>\n",
       "      <td>-0.338419</td>\n",
       "      <td>2.049147</td>\n",
       "    </tr>\n",
       "    <tr>\n",
       "      <th>2</th>\n",
       "      <td>3</td>\n",
       "      <td>2002</td>\n",
       "      <td>0.846925</td>\n",
       "      <td>1.003650</td>\n",
       "      <td>-0.923937</td>\n",
       "      <td>-0.343063</td>\n",
       "      <td>-0.540331</td>\n",
       "    </tr>\n",
       "    <tr>\n",
       "      <th>3</th>\n",
       "      <td>4</td>\n",
       "      <td>2002</td>\n",
       "      <td>-1.208501</td>\n",
       "      <td>-0.045674</td>\n",
       "      <td>-0.880822</td>\n",
       "      <td>-0.341613</td>\n",
       "      <td>-1.509908</td>\n",
       "    </tr>\n",
       "    <tr>\n",
       "      <th>4</th>\n",
       "      <td>5</td>\n",
       "      <td>2002</td>\n",
       "      <td>0.379783</td>\n",
       "      <td>-0.151067</td>\n",
       "      <td>-0.884079</td>\n",
       "      <td>-0.341745</td>\n",
       "      <td>0.109994</td>\n",
       "    </tr>\n",
       "  </tbody>\n",
       "</table>\n",
       "</div>"
      ],
      "text/plain": [
       "   region  year        gy        gg       gdp     gdpsq        sc\n",
       "0       1  2002 -0.180788  0.776764 -0.785017 -0.336102 -0.433914\n",
       "1       2  2002  0.068355 -0.277662 -0.819004 -0.338419  2.049147\n",
       "2       3  2002  0.846925  1.003650 -0.923937 -0.343063 -0.540331\n",
       "3       4  2002 -1.208501 -0.045674 -0.880822 -0.341613 -1.509908\n",
       "4       5  2002  0.379783 -0.151067 -0.884079 -0.341745  0.109994"
      ]
     },
     "execution_count": 44,
     "metadata": {},
     "output_type": "execute_result"
    }
   ],
   "source": [
    "df.head()"
   ]
  },
  {
   "cell_type": "code",
   "execution_count": 45,
   "metadata": {
    "collapsed": true
   },
   "outputs": [],
   "source": [
    "df.to_csv('data.csv', index=False)"
   ]
  }
 ],
 "metadata": {
  "kernelspec": {
   "display_name": "Python 3",
   "language": "python",
   "name": "python3"
  },
  "language_info": {
   "codemirror_mode": {
    "name": "ipython",
    "version": 3
   },
   "file_extension": ".py",
   "mimetype": "text/x-python",
   "name": "python",
   "nbconvert_exporter": "python",
   "pygments_lexer": "ipython3",
   "version": "3.6.3"
  }
 },
 "nbformat": 4,
 "nbformat_minor": 2
}
